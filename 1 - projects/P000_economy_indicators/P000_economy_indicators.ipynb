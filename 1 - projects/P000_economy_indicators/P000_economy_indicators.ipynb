{
 "cells": [
  {
   "cell_type": "code",
   "execution_count": null,
   "metadata": {},
   "outputs": [],
   "source": []
  }
 ],
 "metadata": {
  "kernelspec": {
   "display_name": "Python 3",
   "language": "python",
   "name": "python3"
  },
  "language_info": {
   "name": "python",
   "version": "3.11.0 (main, Oct 24 2022, 18:26:48) [MSC v.1933 64 bit (AMD64)]"
  },
  "orig_nbformat": 4,
  "vscode": {
   "interpreter": {
    "hash": "a78d31c8da20de7fbccdf6d610455d9798aa0072f97ad02dabbcb97340656a70"
   }
  }
 },
 "nbformat": 4,
 "nbformat_minor": 2
}
