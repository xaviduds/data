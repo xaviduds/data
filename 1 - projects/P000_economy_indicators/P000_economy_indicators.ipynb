{
 "cells": [
  {
   "cell_type": "code",
   "execution_count": null,
   "metadata": {},
   "outputs": [],
   "source": []
  }
 ],
 "metadata": {
  "kernelspec": {
   "display_name": "Python 3",
   "language": "python",
   "name": "python3"
  },
  "language_info": {
   "name": "python",
   "version": "3.11.1 (tags/v3.11.1:a7a450f, Dec  6 2022, 19:58:39) [MSC v.1934 64 bit (AMD64)]"
  },
  "orig_nbformat": 4,
  "vscode": {
   "interpreter": {
    "hash": "9d9f96911caf9a6a8a69a73fa5f7b4a70ad66be552850d9337af7ae971baa2f0"
   }
  }
 },
 "nbformat": 4,
 "nbformat_minor": 2
}
