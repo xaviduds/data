{
 "cells": [
  {
   "cell_type": "code",
   "execution_count": 2,
   "metadata": {},
   "outputs": [],
   "source": [
    "import pandas as pd"
   ]
  },
  {
   "cell_type": "code",
   "execution_count": null,
   "metadata": {},
   "outputs": [],
   "source": [
    "dogs = []\n",
    "\n",
    "'''\n",
    "dogs.head() le os 5 primeiros itens\n",
    "dogs.info()\n",
    "dogs.shape() quantas linhas e quantas colunas tem (linhas, colunas)\n",
    "dogs.describe() estatistica básica, quartis, medida central e count (non-missing values in each column)\n",
    "\n",
    "dogs.values() da os valores dos teus itens, sem as colunas\n",
    "dogs.columns() ()? só as colunas\n",
    "dogs.index quantas linhas? indo de 1 por um ou não (step)\n",
    "\n",
    "\n",
    "\n",
    "\n",
    "\n",
    "'''"
   ]
  }
 ],
 "metadata": {
  "kernelspec": {
   "display_name": "Python 3.10.8 64-bit",
   "language": "python",
   "name": "python3"
  },
  "language_info": {
   "codemirror_mode": {
    "name": "ipython",
    "version": 3
   },
   "file_extension": ".py",
   "mimetype": "text/x-python",
   "name": "python",
   "nbconvert_exporter": "python",
   "pygments_lexer": "ipython3",
   "version": "3.10.8"
  },
  "orig_nbformat": 4,
  "vscode": {
   "interpreter": {
    "hash": "01b8457f36e6ec2e803a14b94f23e8cb0d6894b2637528ba3547905af938f048"
   }
  }
 },
 "nbformat": 4,
 "nbformat_minor": 2
}
